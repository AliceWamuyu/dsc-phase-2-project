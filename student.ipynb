{
 "cells": [
  {
   "cell_type": "markdown",
   "metadata": {},
   "source": [
    "## Final Project Submission\n",
    "\n",
    "Please fill out:\n",
    "* Student name: Alice Wanjiru Wamuyu\n",
    "* Student pace:  part time \n",
    "* Scheduled project review date/time: \n",
    "* Instructor name: Asha deen\n",
    "* Blog post URL:\n"
   ]
  },
  {
   "cell_type": "markdown",
   "metadata": {},
   "source": [
    "# House Data Analysis"
   ]
  },
  {
   "cell_type": "markdown",
   "metadata": {},
   "source": [
    "## Overview\n",
    "\n",
    "This project analyzes the King county house sales dataset for Kings' real estate agency that helps homeowners buy and sell homes. I will use regression modelling in the Analysis."
   ]
  },
  {
   "cell_type": "markdown",
   "metadata": {},
   "source": [
    "## Business Problem\n",
    "\n",
    "Kings' real estate agency helps homeowners buy and/or sell homes. There is a need to provide advice to homeowners about how home renovations might increase the estimated value of their homes, and by what amount."
   ]
  },
  {
   "cell_type": "markdown",
   "metadata": {},
   "source": [
    "## Data Understanding\n",
    "For this analysis, I used the King county house sales dataset. This datasets contain information on the houses built between  1900 and 2015. \n",
    "My target variables are: Bedrooms,bathrooms,sqft_living,sqft_lot,floors,condition,grade,yr_built"
   ]
  },
  {
   "cell_type": "markdown",
   "metadata": {},
   "source": [
    "## Importing relevant libraries"
   ]
  },
  {
   "cell_type": "code",
   "execution_count": null,
   "metadata": {},
   "outputs": [],
   "source": [
    "# importing pandas for data wrangling and manipulation\n",
    "import pandas as pd\n",
    "\n",
    "# importing matplotlib and seaborn for data visualization\n",
    "import matplotlib.pyplot as plt\n",
    "%matplotlib inline\n",
    "%config inlineBackend.figure_format = 'retina'\n",
    "import seaborn as sns\n",
    "sns.set_context('notebook')\n",
    "\n",
    "# numpy for numerical operation and arrays\n",
    "import numpy as np\n",
    "\n",
    "# importing libraries needed for the linear regression model\n",
    "from sklearn.model_selection import train_test_split\n",
    "from sklearn.preprocessing import FunctionTransformer\n",
    "from sklearn.model_selection import cross_validate, ShuffleSplit\n",
    "from sklearn.linear_model import LinearRegression\n",
    "import statsmodels.api as sm\n",
    "import scipy.stats as stats\n",
    "from sklearn.feature_selection import RFE\n",
    "from sklearn.linear_model import LinearRegression\n",
    "from sklearn.metrics import mean_squared_error\n",
    "from statsmodels.stats.outliers_influence import variance_inflation_factor"
   ]
  },
  {
   "cell_type": "markdown",
   "metadata": {},
   "source": [
    "## Loading the data"
   ]
  },
  {
   "cell_type": "code",
   "execution_count": null,
   "metadata": {
    "scrolled": true
   },
   "outputs": [],
   "source": [
    "# Your code here - remember to use markdown cells for comments as well!\n",
    "#importing data\n",
    "Data = pd.read_csv(\"C:/Users/This PC/Downloads/kc_house_data.csv\")"
   ]
  },
  {
   "cell_type": "code",
   "execution_count": null,
   "metadata": {},
   "outputs": [],
   "source": [
    "#checking the first 5 rows\n",
    "Data.head()"
   ]
  },
  {
   "cell_type": "markdown",
   "metadata": {},
   "source": [
    "## Data Cleaning"
   ]
  },
  {
   "cell_type": "markdown",
   "metadata": {},
   "source": [
    "1)Removing columns that aren't required"
   ]
  },
  {
   "cell_type": "code",
   "execution_count": null,
   "metadata": {},
   "outputs": [],
   "source": [
    "irrelevant_columns = ['date', 'view', 'sqft_above', 'sqft_basement', \n",
    "'yr_renovated', 'zipcode','lat','long','sqft_living15','sqft_lot15','waterfront']\n",
    "Data.drop(irrelevant_columns, axis=1, inplace = True)"
   ]
  },
  {
   "cell_type": "code",
   "execution_count": null,
   "metadata": {},
   "outputs": [],
   "source": [
    "# getting more information about the columns\n",
    "Data.info()"
   ]
  },
  {
   "cell_type": "code",
   "execution_count": null,
   "metadata": {},
   "outputs": [],
   "source": [
    "#converting bathroom and floors data types from float to int64\n",
    "convert_dict = {'bathrooms': int,'floors':int }\n",
    "Data = Data.astype(convert_dict)"
   ]
  },
  {
   "cell_type": "code",
   "execution_count": null,
   "metadata": {},
   "outputs": [],
   "source": [
    "Data.dtypes"
   ]
  },
  {
   "cell_type": "markdown",
   "metadata": {},
   "source": [
    "From my analyses below, waterfront has no relationship with any of the variables. Since it has missing values, I dropped the waterfront column"
   ]
  },
  {
   "cell_type": "markdown",
   "metadata": {},
   "source": [
    "## Checking for duplicates and dropping duplicated values"
   ]
  },
  {
   "cell_type": "code",
   "execution_count": null,
   "metadata": {},
   "outputs": [],
   "source": [
    "Data.duplicated().value_counts()"
   ]
  },
  {
   "cell_type": "code",
   "execution_count": null,
   "metadata": {},
   "outputs": [],
   "source": [
    "##checking for duplicates\n",
    "Data.duplicated().sum()"
   ]
  },
  {
   "cell_type": "code",
   "execution_count": null,
   "metadata": {},
   "outputs": [],
   "source": [
    "Data.drop_duplicates(inplace = True)"
   ]
  },
  {
   "cell_type": "code",
   "execution_count": null,
   "metadata": {},
   "outputs": [],
   "source": [
    "Data.duplicated().sum()"
   ]
  },
  {
   "cell_type": "code",
   "execution_count": null,
   "metadata": {},
   "outputs": [],
   "source": [
    "Data"
   ]
  },
  {
   "cell_type": "markdown",
   "metadata": {},
   "source": [
    "# Exploratory Data Analysis "
   ]
  },
  {
   "cell_type": "code",
   "execution_count": null,
   "metadata": {},
   "outputs": [],
   "source": [
    "#Description of the data using 5-point statistics\n",
    "Data.describe()"
   ]
  },
  {
   "cell_type": "markdown",
   "metadata": {},
   "source": [
    "## Correlation between variables\n"
   ]
  },
  {
   "cell_type": "code",
   "execution_count": null,
   "metadata": {},
   "outputs": [],
   "source": [
    "dependent = ['bedrooms', 'bathrooms', 'sqft_living','sqft_lot','floors','condition','grade','yr_built']"
   ]
  },
  {
   "cell_type": "code",
   "execution_count": null,
   "metadata": {
    "scrolled": true
   },
   "outputs": [],
   "source": [
    "plt.figure(figsize=(15,8))\n",
    "for i in enumerate(dependent):\n",
    "    plt.subplot(3,3,i[0]+1 )\n",
    "    plt.scatter(x =i[1], y ='price', data= Data)"
   ]
  },
  {
   "cell_type": "markdown",
   "metadata": {},
   "source": [
    "From the scatter plots above, we confirm that condition and grade are categorical variables.\n",
    "Condition ranges from 1-5. 1 Representing Poor- Worn out,2 represents Fair- Badly worn, 3 represents Average, 4 represents Good and 5 represents Very Good.\n",
    "\n",
    "Grade ranges from 3 to 13.\n",
    "Grades run from grade 1 to 13 and are generally defined as;\n",
    "1-3: Falls short of minimum building standards.\n",
    "4: Generally older, low quality construction. Does not meet code.\n",
    "5: Low construction costs and workmanship. Small, simple design.\n",
    "6: Lowest grade currently meeting building code. Low quality materials and simple designs.\n",
    "7: Average grade of construction and design. Commonly seen in plats and older sub-divisions.\n",
    "8: Just above average in construction and design. Usually better materials in both the exterior and interior finish work.\n",
    "9: Better architectural design with extra interior and exterior design and quality\n",
    "10: 10 Homes of this quality generally have high quality features. Finish work is better and more design quality is seen in the floor plans. Generally have a larger square footage.\n",
    "11: Custom design and higher quality finish work with added amenities of solid woods, bathroom fixtures and more luxurious options.\n",
    "12: Custom design and excellent builders. All materials are of the highest quality and all conveniences are present.\n",
    "13: Generally custom designed and built. Mansion level. Large amount of highest quality cabinet work, wood trim, marble and entry ways\n",
    "\n",
    "source:https://info.kingcounty.gov/assessor/esales/Glossary.aspx?type=r\n",
    "\n",
    "\n",
    "\n",
    "The grade of a house and the area of the living space has a linear relationship with the price of the house."
   ]
  },
  {
   "cell_type": "code",
   "execution_count": null,
   "metadata": {},
   "outputs": [],
   "source": [
    "datacorr = Data.corr()\n",
    "datacorr"
   ]
  },
  {
   "cell_type": "code",
   "execution_count": null,
   "metadata": {},
   "outputs": [],
   "source": [
    "plt.figure(figsize=(10,8))\n",
    "sns.heatmap(datacorr)"
   ]
  },
  {
   "cell_type": "markdown",
   "metadata": {},
   "source": [
    "From the heat map above, we see that the grade of a house and the area of the living space significantly affects the price of the house."
   ]
  },
  {
   "cell_type": "markdown",
   "metadata": {},
   "source": [
    "## Checking for Multicollinearity\n",
    "predictors with overly high pairwise-correlation (r > .65) are almost certain to produce multicollinearity in a model. With that, I generated the pairwise (pearson) correlation coefficients of your predictive features and visualized these coefficients as a heatmap."
   ]
  },
  {
   "cell_type": "code",
   "execution_count": null,
   "metadata": {},
   "outputs": [],
   "source": [
    "dependent = ['bedrooms', 'bathrooms', 'sqft_living','sqft_lot','floors','condition','grade','yr_built']\n",
    "corr = Data[dependent].corr()\n",
    "corr"
   ]
  },
  {
   "cell_type": "code",
   "execution_count": null,
   "metadata": {},
   "outputs": [],
   "source": [
    "plt.figure(figsize=(10,8))\n",
    "sns.heatmap(corr, center=0, annot=True);"
   ]
  },
  {
   "cell_type": "markdown",
   "metadata": {},
   "source": [
    "No correlation is greater than 0.65 hence there is no multicollinearity"
   ]
  },
  {
   "cell_type": "markdown",
   "metadata": {},
   "source": [
    "# Using pandas to plot histograms for all the numeric variables in the dataset."
   ]
  },
  {
   "cell_type": "code",
   "execution_count": null,
   "metadata": {},
   "outputs": [],
   "source": [
    "Data.hist(figsize = (18,18));"
   ]
  },
  {
   "cell_type": "markdown",
   "metadata": {},
   "source": [
    "These variables have a skewed distribution hence they are not perfectly normal."
   ]
  },
  {
   "cell_type": "markdown",
   "metadata": {},
   "source": [
    "## Using Log Transformations to normalize the non- normal data"
   ]
  },
  {
   "cell_type": "code",
   "execution_count": null,
   "metadata": {},
   "outputs": [],
   "source": [
    "x = np.linspace(start=-100, stop=100, num=10**3)\n",
    "y = np.log(x)"
   ]
  },
  {
   "cell_type": "code",
   "execution_count": null,
   "metadata": {},
   "outputs": [],
   "source": [
    "x_cols = ['price','bedrooms', 'bathrooms', 'sqft_living','sqft_lot','floors','condition','grade','yr_built']"
   ]
  },
  {
   "cell_type": "code",
   "execution_count": null,
   "metadata": {},
   "outputs": [],
   "source": [
    "non_normal = ['sqft_living', 'price','grade']\n",
    "for t in non_normal:\n",
    "    Data[t] = Data[t].map(lambda x: np.log(x))\n",
    "pd.plotting.scatter_matrix(Data[x_cols], figsize=(10,12));"
   ]
  },
  {
   "cell_type": "markdown",
   "metadata": {},
   "source": [
    "## Check for Linearity\n",
    "\n",
    "Testing the linearity assumption in linear regression modeling.The dependent variable should be linearly related to the independent variables\n"
   ]
  },
  {
   "cell_type": "code",
   "execution_count": null,
   "metadata": {},
   "outputs": [],
   "source": [
    "##Testing if there is any linear relationship between the price of a house and sqft_living. \n",
    "sns.jointplot('sqft_living','price', data=Data, kind='reg');"
   ]
  },
  {
   "cell_type": "markdown",
   "metadata": {},
   "source": [
    "There seems to be a some-what linear correlation between the sqft_living and the price of the house."
   ]
  },
  {
   "cell_type": "code",
   "execution_count": null,
   "metadata": {},
   "outputs": [],
   "source": [
    "##Testing if there is any linear relationship between the price of a house and grade.\n",
    "sns.jointplot('grade','price', data=Data, kind='reg');"
   ]
  },
  {
   "cell_type": "markdown",
   "metadata": {},
   "source": [
    "There is also a linear correlation between the grade and the price of the house."
   ]
  },
  {
   "cell_type": "markdown",
   "metadata": {},
   "source": [
    "## Modelling the data"
   ]
  },
  {
   "cell_type": "code",
   "execution_count": null,
   "metadata": {},
   "outputs": [],
   "source": [
    "from statsmodels.formula.api import ols\n",
    "from statsmodels.stats.outliers_influence import variance_inflation_factor\n",
    "import statsmodels.api as sm\n",
    "import scipy.stats as stats\n",
    "\n",
    "import warnings\n",
    "warnings.simplefilter('ignore', FutureWarning)\n",
    "warnings.simplefilter('ignore', RuntimeWarning)\n",
    "warnings.simplefilter('ignore', UserWarning)"
   ]
  },
  {
   "cell_type": "markdown",
   "metadata": {},
   "source": [
    "## Building a Baseline Model\n",
    "\n",
    "I built a linear regression model using the feature that is most correlated with price it being sqft_living to serve as my baseline model."
   ]
  },
  {
   "cell_type": "code",
   "execution_count": null,
   "metadata": {},
   "outputs": [],
   "source": [
    "X = Data.drop('price', axis=1)\n",
    "y = Data[['price']]\n",
    "X_train, X_test, y_train, y_test = train_test_split(X, y, test_size=0.3, random_state=42)"
   ]
  },
  {
   "cell_type": "code",
   "execution_count": null,
   "metadata": {},
   "outputs": [],
   "source": [
    "#Instantiate Linear regression model\n",
    "most_correlated_feature = 'sqft_living'\n",
    "baseline_model = LinearRegression()\n",
    "splitter = ShuffleSplit(n_splits=3, test_size=0.3, random_state=42)\n",
    "\n",
    "baseline_scores = cross_validate(\n",
    "    estimator=baseline_model,\n",
    "    X=X_train[[most_correlated_feature]],\n",
    "    y=y_train,\n",
    "    return_train_score=True,\n",
    "    cv=splitter\n",
    ")\n",
    "\n",
    "print(\"Train r-squared score:\", baseline_scores[\"train_score\"].mean())\n",
    "print(\"Test r-squared score:\", baseline_scores[\"test_score\"].mean())"
   ]
  },
  {
   "cell_type": "markdown",
   "metadata": {},
   "source": [
    "Observations:\n",
    "\n",
    "R_squared is 0.49. This shows that our model is weak.\n",
    "The test subset performs slightly better than the training subset.\n",
    "There is a nearly identical performance in the training and test subsets, both indicating a variance of around 43%."
   ]
  },
  {
   "cell_type": "markdown",
   "metadata": {},
   "source": [
    "## Second model with all features."
   ]
  },
  {
   "cell_type": "code",
   "execution_count": null,
   "metadata": {},
   "outputs": [],
   "source": [
    "second_model_features = X_train.drop('sqft_living', axis=1)"
   ]
  },
  {
   "cell_type": "code",
   "execution_count": null,
   "metadata": {},
   "outputs": [],
   "source": [
    "second_model = LinearRegression()\n",
    "\n",
    "second_model_scores = cross_validate(\n",
    "    estimator=second_model,\n",
    "    X=X_train,\n",
    "    y=y_train,\n",
    "    return_train_score=True,\n",
    "    cv=splitter\n",
    ")\n",
    "\n",
    "print(\"Second Model\")\n",
    "print(\"Train r-squared score:\", second_model_scores[\"train_score\"].mean())\n",
    "print(\"Test r-squared score: \", second_model_scores[\"test_score\"].mean())\n",
    "print()\n",
    "print(\"Baseline Model\")\n",
    "print(\"Train r-squared score:\", baseline_scores[\"train_score\"].mean())\n",
    "print(\"Test r-squared score: \", baseline_scores[\"test_score\"].mean())"
   ]
  },
  {
   "cell_type": "markdown",
   "metadata": {},
   "source": [
    "The second model performs better than the baseline model in both the training and test subset.\n",
    "The test subset of the second model performs better than the training subset.\n",
    "The difference in the r_squared value of the training and test subset small meaning the model will perform well with unknown data. \n",
    "The second model will be the final model"
   ]
  },
  {
   "cell_type": "code",
   "execution_count": null,
   "metadata": {},
   "outputs": [],
   "source": [
    "outcome = 'price'\n",
    "variables2 =['bedrooms', 'bathrooms', 'sqft_living','sqft_lot','floors','condition','grade','yr_built']\n",
    "predictors = '+'.join(variables2)\n",
    "formula = outcome + '~' + predictors\n",
    "model = ols(formula=formula, data=Data).fit()\n",
    "model.summary()\n"
   ]
  },
  {
   "cell_type": "markdown",
   "metadata": {},
   "source": [
    "All features have a statistically significant p_value. This means that all the features are required to make the best model"
   ]
  },
  {
   "cell_type": "markdown",
   "metadata": {},
   "source": [
    "## Checking for the Normality Assumption"
   ]
  },
  {
   "cell_type": "code",
   "execution_count": null,
   "metadata": {},
   "outputs": [],
   "source": [
    "fig = sm.graphics.qqplot(model.resid, dist=stats.norm, line='45', fit=True)"
   ]
  },
  {
   "cell_type": "markdown",
   "metadata": {},
   "source": [
    "## Conclusion"
   ]
  },
  {
   "cell_type": "markdown",
   "metadata": {},
   "source": [
    "The square footage of interior housing living space and the Grade of the house has a somewhat positive linear relationship. This means that an increase in the interior housing living space will lead to an increase in the price of the house similarily for the grade.\n",
    "\n",
    "The MSEs for the train and test subsets are almost similar, which suggests that the model will perform similarly on different data\n"
   ]
  }
 ],
 "metadata": {
  "kernelspec": {
   "display_name": "Python 3 (ipykernel)",
   "language": "python",
   "name": "python3"
  },
  "language_info": {
   "codemirror_mode": {
    "name": "ipython",
    "version": 3
   },
   "file_extension": ".py",
   "mimetype": "text/x-python",
   "name": "python",
   "nbconvert_exporter": "python",
   "pygments_lexer": "ipython3",
   "version": "3.9.12"
  }
 },
 "nbformat": 4,
 "nbformat_minor": 2
}
